{
 "cells": [
  {
   "cell_type": "markdown",
   "metadata": {},
   "source": [
    ">Tratamento para Numeros :"
   ]
  },
  {
   "cell_type": "markdown",
   "metadata": {},
   "source": [
    "Erro Numero decimal que acabou virando inteiro:\n",
    "\n",
    ".Em uma tabela o valor aprensentado era 100000 mas deveria ser 1000,00 na hora de importar\n",
    "pro Power Query os zeros decimais se juntaram aos interios posso resolver apenas dividindo o valor por 100\n",
    "depois e interssante verificar se os atributos estão como numeros decimais.\n",
    "\n",
    "\n",
    "\n"
   ]
  },
  {
   "cell_type": "markdown",
   "metadata": {},
   "source": [
    "\n",
    "\n",
    "\n",
    "\n",
    "\n",
    ">Tratamentos para Texto"
   ]
  },
  {
   "cell_type": "markdown",
   "metadata": {},
   "source": [
    ">Função Dividir coluna por delimitador\n",
    "\n",
    "\n",
    "exemplo:\n",
    "\n",
    "Smart TV 50'4k - Preto\n",
    "\n",
    "Iphone 7 - Dourado\n",
    "\n",
    "Apple Watch - Preto \n",
    "\n",
    "-Nesse exemplo alem do nome do produto 'Iphone 7' eu tenho tbm a sua cor 'Dourado'\n",
    "são 2 informações em uma mesma coluna, então e interessante separalas pois assim\n",
    "no futuro posso analisar também os produtos por cores.\n",
    "\n",
    "_Na interfacee na aba tranformar eu tenho a opção 'dividir coluna' seleciono por\n",
    "delimitador em seguida seleciono o meu delimitador ou personalizo, devo encontar \n",
    "um padrão para separar os dados, no acima foi o '-' então apenas adciono o '-' e \n",
    "coloco um espaço antes e depois do traço para os espaços não irem para a coluna.\n",
    "\n",
    "-Caso hajas mais de um traço posso definir que separe por:\n",
    "Delimitador da extrimidade esquerda: ou seja pelo traço mais a esquerda\n",
    "Delimitador da Extremidade direita: ou seja pelo traço mais a direita\n",
    "ou a cada decorrencia do traço.\n",
    "\n",
    "DICA: Ultilize quando for apenas dividir uma coluna em 2 e não precisar acionar muitas de uma vez.\n"
   ]
  },
  {
   "cell_type": "markdown",
   "metadata": {},
   "source": [
    ">Separando por delimitador Adicionar coluna\n",
    "\n",
    "Separando por delimitador : separa o texto de acordo com o delimitador e parametro indicado.\n",
    "\n",
    "Dados juntos:\n",
    "\n",
    "'R. Visc. de Pirajá, 136 - Ipanema, Rio de Janeiro - RJ, 22410-000'\n",
    "\n",
    ". Preciso fazer a separação dessas informações.\n",
    "\n",
    "-Etapas:\n",
    "\n",
    ".Seleciono a Coluna que desejo modificar.\n",
    "\n",
    ".Atraves da interface vou em adicionar coluna e em seguida em EXTRAIR e depois Texto antes do Delimitador\n",
    "seleciono o delimitador que vou ultilizar nesse caso e a ',' assim todos os dados antes dela serão separados em uma nova coluna.\n",
    "\n",
    "Dados depois:\n",
    "\n",
    "'R. Visc. de Pirajá' separei a rua dos outros dados\n",
    "\n",
    "DICA: Mude o nome da nova coluna criado no codigo 'M' pois assim ao invez de ter 2 etapas adicionar coluna e mudar nome so tera uma, o que aumentara a performace."
   ]
  },
  {
   "cell_type": "markdown",
   "metadata": {},
   "source": [
    ">Extrair por Ultimos caracteres\n",
    "\n",
    "Dados antes:\n",
    "\n",
    "'R. Visc. de Pirajá, 136 - Ipanema, Rio de Janeiro - RJ, 22410-000'\n",
    "\n",
    "Preciso retirar o CEP dessa informação e tranformalo em outra coluna.\n",
    "\n",
    "- Etapas: seleciono a coluna que que extrair os dados, vou em EXTRAIR e depois Ultimos Caracteres.\n",
    "\n",
    "- Defino a quantidade de caracteres finais que quero extrair e os retiro os colocando em uma nova coluna."
   ]
  },
  {
   "cell_type": "markdown",
   "metadata": {},
   "source": [
    "> Extrair dados Coluna exemplo\n",
    "\n",
    ".Nesse metodo eu posso criar uma coluna de exemplo e ir passando os dados que quero de cada linha, ate que o proprio Power Qeury \n",
    "identifique um padrão nos dados que eu passei, e incremente isso em todas as linhas.\n",
    "\n",
    "Dados de dificil extração:\n",
    "\n",
    "'R. Visc. de Pirajá, 136 - Ipanema, Rio de Janeiro - RJ, 22410-000'\n",
    "\n",
    "Av. Barão Homem de Melo, 1389 - Nova Granada, Belo Horizonte - MG, 30431-425\n",
    "\n",
    "Shopping Barra - Av. Centenário, 2992 - Barra, Salvador - BA, 40155-150\n",
    "\n",
    "cada um desses endereços tem um bairro diferente e não a um padrão identico para poder passar delimitadores para o Power Query\n",
    "uns bairros vem antes de '-' outros antes de ',' uns depois de '-' e etc.\n",
    "\n",
    ".Para Extrair o Bairro de cada coluna devo fazer um seguinte.\n",
    "\n",
    "Etapas:\n",
    "\n",
    ".Seleciono a coluna que quero extrair e vou em Adicionar coluna, Depois Adcionar Coluna de exemplos.\n",
    "\n",
    ".Dessa maneira posso passar o Dado que quero de algumas linhas e o proprio sistema vai procurar um padrão nas outras linhas.\n",
    "\n",
    ".Exemplo passei os bairros: Ipanema, Nova Granada, e Barra, o Porwer Query analisou esses exemplos que passei e definiu as \n",
    "outras colunas com base nos exemplos passados.\n",
    "\n",
    "DICA: Coluna de exemplos ir em Seleção dessa maneira posso seleionar uma busca especifica em uma coluna e o power bi não precisara percorrer todas colunas para encontrar o padrão que quero."
   ]
  },
  {
   "cell_type": "markdown",
   "metadata": {},
   "source": [
    ">EXTRAIR E MODIFICAR OS DADOS COLUNA DE EXEMPLO\n",
    "\n",
    ". Nesse metodo eu quero pegar nomes que ja existem na minhas colunas e mudar a forma como eles são exibidos exemplo: Ruan Pablo quero que seja exibido Pablo,R. Pega o segundo e coloca como primeiro \n",
    "e pega o primeiro nome e passa somente a primeira letra do mesmo para o sengundo.\n",
    "\n",
    "- Outros exemplos:\n",
    "\n",
    "Allan Centurione = Centurione,A.\n",
    "\n",
    "Alfredo Araújo = Araújo,A.\n",
    "\n",
    "Diego Amorim = Amorim,D.\n",
    "\n",
    "Arthur Barreto = Barreto,A.\n",
    "\n",
    "- Etapas do Processo:\n",
    "\n",
    ". Adiciono uma coluna de exemplo e seleciono a coluna que quero extrair e modificar a forma que os dados estão sendo exibidos.\n",
    "\n",
    ". Vou passando a maneira que eu quero que os dados sejam exibidos ne cada linha até que o Power query encontre o Padrão e faça isso para todos os dados."
   ]
  },
  {
   "cell_type": "markdown",
   "metadata": {},
   "source": [
    "> Mesclar Tabelas\n",
    "\n",
    ".Faço a junção de colunas de diferentes tabelas exemplo: pego a coluna  'Estado' e 'Região' de uma tabela e adiciono essas colunas em uma outra tabela que não possui essas informações.\n",
    "ou seja estou mesclando(juntando essas informações).\n",
    "\n",
    "- Etapas:\n",
    "\n",
    ". Vou para a Tabela que quero adcionar as informações ex: 'CadastroLojas'\n",
    "\n",
    ". Pela Interface acesso a ferramenta MESCLAR CONSULTAS\n",
    "\n",
    ". Dentro dela seleciono a outra tabela que quero fazer a ligação exenplo 'CadastroLocalidade'\n",
    "\n",
    ". Preciso Identificar uma coluna nas duas tabelas que sejam iguais exemplo na Tabela 'CadastrosLojas' a coluna 'Loja' continha como atributos os nomes da cidade.\n",
    " na tabela 'CadastroLocalidade' possuia outra coluna mas que continha os mesmo atributos as 'cidades'.\n",
    "\n",
    ". Dessa maneira eu posso fazer o relacionamento dessas tabelas ultilizando colunas de diferentes tabelas que possuam os mesmo atributos, meio que como um relacionamento entra as tabelas\n",
    "graças a essas atributos que são identicos nas duas tabelas diferentes.\n",
    "\n",
    ". Assim garanto a consistencia e integridade dos dados ja que cada cidade sera atribuida a sua devida região ou estado graças a essa mescla de colunas e seu relacionamento.\n",
    "\n",
    ". Com todo feito uma nova coluna sera mostrada devo ir no botão ao lado do seu nome clicar nele e selecionar as colunas que quero trazer para essa tabelas.\n",
    "\n",
    "DICA: Retirar o Prefixo da ligação entra as tabelas para facilitar a leitura, faça isso no momento que for selecionar as colunas pois assim não acrencetara etapas envão na linha do tempo."
   ]
  },
  {
   "cell_type": "markdown",
   "metadata": {},
   "source": [
    "> Desabilitando Carga\n",
    "\n",
    ".E quase uma sequencia do contexto acima.\n",
    "\n",
    ". Posso desabilitar uma tabela do Power BI caso perceba que suas informações são nulas exemplo:\n",
    "\n",
    ". Serve tanto para consultas mescladas quanto consultas acrecentadas.\n",
    "\n",
    ".Eu tirei as colunas de uma tabela e fiz relacionamento dela com outra tabela, dessa forma os dados que eu precisava da tebela A ja estão na tabela B, Ou seja a Tabela A não e mais util, mas não posso excluila porque os atributos dela estão sendo puxadas para outra tabela.\n",
    "\n",
    ". Para reseolver isso posso ir No Power Query e desabilitar a carga da tabela, dessa maneira a tabela vai continuar existindo para o relacionamento das tabalas A e B mas ela não sera carregada para o Power BI, ja que seus dados ja estão em outra tabela, a desabilitando eu simplifico a leitura diminuo as planilhas e otimizo a performace."
   ]
  },
  {
   "cell_type": "markdown",
   "metadata": {},
   "source": [
    "> Acrencetar Consultas:\n",
    "\n",
    ".Um pouco parecida com a 'Mesclar' mas a sua principal diferença e que ela não juntas tabelas criando novas colunas, mas adiciona os dados em colunas ja existente exemplo:\n",
    "\n",
    ".tenha uma tabela com dados de vendas de 2016, 2017 e 2018, usando a ferramenta de Acrecentar tabela ela juntara os dados dessas 3 tabelas em uma unica tabela sem adcionar mais colunas, mas fazende forma continua, ou seja quando a minh tabela de vendas de 2016 chegar no final ela não vai acabar e eu ter quer os dados da de 2017 em outra coluna, quando ela acabar ela mostrara de forma continua a informação de 2017 e 2018 por diante tudo na mesma coluna.\n",
    "\n",
    "-Etapas:\n",
    "\n",
    ".Selecino uma das tabelas que quero acrencentar \n",
    "\n",
    ".Na interface 'pagina inicial' a uma opção acrencentar consultas, escolho opção acrecentar consultas como novas pois assim sera criado uma nova tabela para conter os dados de todas as outras juntas.\n",
    "\n",
    ".Após isso devo selecionar as tabelas que quero unir e a ordem de qual as informações ficaram na coluna ex: se deixar 2016 na parte de cima, as informações de 2016 seram mostratdas antes das de 2017, que por sua vez so começara a ser exbida quando a de 2016 chegar ao fim. \n",
    "\n"
   ]
  },
  {
   "cell_type": "markdown",
   "metadata": {},
   "source": [
    "> Importar atraves de pasta:\n",
    "\n",
    ". Ultilizo nova fonte importo uma pasta que contem os arquivos que quero trabalhar:\n",
    "\n",
    ". Após importalos eu vou no seu 'name' onde aparece o ome dos arquivos, apos isso vou ne filtros de texto e defino o que quero.\n",
    "\n",
    ". Nesse caso defino que quero importar todos os arquivos que o seu nome começa como 'Base Vendas'.\n",
    "\n",
    ". Além de importar tudo de uma vez também posso acrecentar um arquivo ao outro como no metodo acima, para isso basta ir nos arquivo filtrados na parte de 'Content'.\n",
    "\n",
    ". Após isso os 3 arquivos se uniram em um só, como fosse o metodo acrecentar mas so que ja aplicado desde a fonte.\n",
    "\n",
    "-Requisitos: A quantidade de colunas e nomes das tabelas que serão acrentadas umas as outras devem ser o mesmo para funcionar, eu posso passar uma tabela como parametro no incio para o Power BI a ver e identificar as outras."
   ]
  },
  {
   "cell_type": "markdown",
   "metadata": {},
   "source": [
    "Telegram F025"
   ]
  },
  {
   "cell_type": "markdown",
   "metadata": {},
   "source": [
    "> Acrecentar Colunas Com DATAS\n",
    "\n",
    ". Selecionar uma coluna 'DATA' exemplo '01/08/2024',  Através da Interface adcionar nova coluna, e a ferramenta 'DATA'\n",
    "\n",
    ". Eu posso separar determinada informação de todas as datas da minha coluna em uma nova.\n",
    "\n",
    ". Exemplo criar uma nova coluna e retirar somente os anos daquelas datas. '01/08/2024' = '2024'"
   ]
  },
  {
   "cell_type": "markdown",
   "metadata": {},
   "source": [
    "> Calcular idade\n",
    "\n",
    ". Basta selecionar a coluna com a data de nascimento, sem seguida ir em 'Data' e 'idade'.\n",
    "\n",
    ".Depois vou em 'Duração' e seleciono 'ANO' e em seguida vu ne arredondar e arredondo para baixo."
   ]
  },
  {
   "cell_type": "markdown",
   "metadata": {},
   "source": [
    "> Consulta Nula /'TABELA CALENDARIO'\n",
    "\n",
    ".Me permite criar uma tabela do zero \n",
    "\n",
    ".Nesse caso quero criar uma tabela calendario do zero\n",
    "\n",
    "-ETAPAS:\n",
    "\n",
    ". Posso pegar uma outra tabela que ja existe como base, ultilizando a Linguagem 'M' para passar a formula\n",
    "\n",
    ".Pego a minha tabela Base de Vendas que possui todas as Datas de Vendas, pego atraves da Linguagem 'M'\n",
    "\n",
    "Codigos:\n",
    "\n",
    ".= List.Min(BaseVendasCompleto[Data da Venda])  # pego a data minima de Venda.\n",
    "\n",
    ".= List.Max(BaseVendasCompleto[Data da Venda])  # a Data Maxima da Venda.\n",
    "\n",
    ".= Duration.Days(DataMaxima-DataMinima)+1  # a Quantidade de dias.\n",
    "\n",
    ".= List.Dates(DataMinima, QtdDIas, #duration(1,0,0,0))  #Defino de quanto em quanto.\n",
    "\n",
    ".Agora e so converter para tabela, depois definir como 'DATA'.\n",
    "\n",
    ".Essa Tabela sempre sera Atualizada automaticamente. porque eu peguei as datas de poutra tabela a de vendas como Paremetro assim se novas tabelas de vendas forem adicionadas as datas serão tbm automaticamnete."
   ]
  },
  {
   "cell_type": "markdown",
   "metadata": {},
   "source": [
    "> Coluna Condicional\n",
    "\n",
    ". Me permite criar uma coluna baseada em condições\n",
    "\n",
    ".Exemplo quero criar uma coluna que me informe o semestre de cada mês\n",
    "\n",
    "- Etapas:\n",
    "\n",
    ". Vou em adicionar coluna Condicional, e definos as condições que quero.\n",
    "\n",
    ". Nesse caso como o semestre e de 6 em 6 meses, preciso criar uma condição que atenda a isso.\n",
    "\n",
    ". defino que a cada <=6 meses sera '1' primeiro semestre e no senão defino '2' que representa o segundo semestre. \n",
    "\n",
    "OUTRO EXEMPLO:\n",
    "\n",
    ". Crio uma coluna para definir os tickets do produto se são altos, baixos ou medios. \n",
    "\n",
    ". Para isso crio uma coluna condicional, e defino um valor que geralmente vai depender do negocio e produto, para servir como o tipo de 'ticket' \n",
    "\n",
    ". A forma de definir as condições e bem parecida com o Python como se fosse um IF, Elif, Else.\n",
    "\n",
    ". Ou seja posso fazer assim if valor >=5000 return Ticket Alto, elif valor >= 2500 return Ticket Medio, else return 'Ticket Baixo'\n",
    "\n",
    "Dica: Olha com a Logica da programação de condições do Python ou SQL."
   ]
  }
 ],
 "metadata": {
  "language_info": {
   "name": "python"
  }
 },
 "nbformat": 4,
 "nbformat_minor": 2
}
