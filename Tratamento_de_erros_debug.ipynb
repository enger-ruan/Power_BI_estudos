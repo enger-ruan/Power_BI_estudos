{
 "cells": [
  {
   "cell_type": "markdown",
   "metadata": {},
   "source": [
    ">Formas de identificar um Erro:\n",
    "\n",
    ". Ler a Expression.Erro que for apresentada.\n",
    "\n",
    ". Ir na Barra de 'ETAPAS APLICADAS' e por la ir clicar em cada etapa ate ver ne qual esta um erro.\n",
    "\n",
    ". As Vezes aparece no  local da Expression.Error uma opção de 'ir Para Erro' isso te leve diretamente para a etapa que teve algum problema.\n",
    "\n",
    ". Analize o Codigo da linguagem 'M' e a linguagem do Power BI.\n",
    "\n"
   ]
  },
  {
   "cell_type": "markdown",
   "metadata": {},
   "source": [
    ">ERRO: Expression.Error: A chave não correspondia a nenhuma linha da tabela\n",
    "\n",
    "detalhes:\n",
    "\n",
    "    Key=\n",
    "\n",
    "        item=Planilha1\n",
    "\n",
    "        Kind=Sheet\n",
    "\n",
    "    Table=[table]\n",
    "\n",
    "- Esse erro seginifica que a chave(nome) da planilha foi alterado dentro do arquivo excel na sua origem.\n",
    "\n",
    "Para corrigilo eu preciso ir na minha tabela do excel que fornece os dados e ver qual nome esta atribuido\n",
    " e em seguida ir no meu Power Query e mudar o nome da chave pro mesmo da planilha\n",
    "\n",
    "Antes = Fonte{[Item=\"Planilha1\",Kind=\"Sheet\"]}[Data]\n",
    "\n",
    "Depois = Fonte{[Item=\"Produtos\",Kind=\"Sheet\"]}[Data]\n",
    "\n",
    "Nesse caso o nome haviado sido alterado de 'Planilha1' para 'Produtos'\n"
   ]
  },
  {
   "cell_type": "markdown",
   "metadata": {},
   "source": [
    ">ERRO: Expression.Error: A coluna 'Categoria' da tabela não foi encontrada.\n",
    "\n",
    "Detalhes:\n",
    "\n",
    "        Categoria\n",
    "\n",
    ". Esse erro acontece pois a coluna 'Categoria' teve algum problema em sua fonte\n",
    "\n",
    ". Devo ir no seu arquivo que esta sendo importado e verificalo\n",
    "\n",
    "Nesse Caso o nome da coluna 'Categoria' foi alterado para 'Tipo do Produto'\n",
    "\n",
    "Para corrigilo basta ver o nome da coluna que foi alterada, em seguida ir no Codigo da linguagem 'M'\n",
    "na etapa que apresenta erro, identificar a coluna que teve a alteração e modificala para o nome atual.\n"
   ]
  },
  {
   "cell_type": "markdown",
   "metadata": {},
   "source": [
    "Antes"
   ]
  },
  {
   "cell_type": "code",
   "execution_count": null,
   "metadata": {
    "vscode": {
     "languageId": "plaintext"
    }
   },
   "outputs": [],
   "source": [
    "= Table.TransformColumnTypes(#\"Cabeçalhos Promovidos\",{{\"SKU\", type text},\n",
    " {\"Produto\", type text}, {\"Marca\", type text}, {\"Categoria\", type text},\n",
    "  {\"Preco Unitario\", Int64.Type}, {\"Custo Unitario\", Int64.Type}, {\"Observação\", type text}})"
   ]
  },
  {
   "cell_type": "markdown",
   "metadata": {},
   "source": [
    "Depois"
   ]
  },
  {
   "cell_type": "code",
   "execution_count": null,
   "metadata": {
    "vscode": {
     "languageId": "plaintext"
    }
   },
   "outputs": [],
   "source": [
    "= Table.TransformColumnTypes(#\"Cabeçalhos Promovidos\",{{\"SKU\", type text}, {\"Produto\", type text},\n",
    " {\"Marca\", type text}, {\"Tipo do Produto\", type text}, {\"Preco Unitario\", Int64.Type},\n",
    "  {\"Custo Unitario\", Int64.Type}, {\"Observação\", type text}})"
   ]
  },
  {
   "cell_type": "markdown",
   "metadata": {},
   "source": [
    ">ERRO: Expression.Error: A coluna 'Observação' da tabela não foi encontrada.\n",
    "\n",
    "Detalhes:\n",
    "\n",
    "        Observação\n",
    ". Erro Acontece pois a coluna 'Obeservação' não foi encontrada.\n",
    "\n",
    ". Verifico o Arquivo fonte para analisar a coluna que tem o erro.\n",
    "\n",
    "Nesse Caso o Erro acontece pois a coluna 'Observação' foi deletada\n",
    "\n",
    "Para corrigilo preciso apenas remover a coluna em questão no codigo da linguagem 'M'"
   ]
  },
  {
   "cell_type": "markdown",
   "metadata": {},
   "source": [
    "Codigo com erro : possui a coluna que foi removida na planilha excel."
   ]
  },
  {
   "cell_type": "code",
   "execution_count": null,
   "metadata": {
    "vscode": {
     "languageId": "plaintext"
    }
   },
   "outputs": [],
   "source": [
    "= Table.TransformColumnTypes(#\"Cabeçalhos Promovidos\",{{\"SKU\", type text}, {\"Produto\", type text},\n",
    " {\"Marca\", type text}, {\"Tipo do Produto\", type text},\n",
    " {\"Preco Unitario\", Int64.Type}, {\"Custo Unitario\", Int64.Type}, {\"Observação\", type text}})"
   ]
  },
  {
   "cell_type": "markdown",
   "metadata": {},
   "source": [
    "Codigo sem erro: Coluna deletada no arquivo excel foi apagada no script 'M'"
   ]
  },
  {
   "cell_type": "code",
   "execution_count": null,
   "metadata": {
    "vscode": {
     "languageId": "plaintext"
    }
   },
   "outputs": [],
   "source": [
    "= Table.TransformColumnTypes(#\"Cabeçalhos Promovidos\",{{\"SKU\", type text}, {\"Produto\", type text},\n",
    " {\"Marca\", type text}, {\"Tipo do Produto\", type text},\n",
    " {\"Preco Unitario\", Int64.Type}, {\"Custo Unitario\", Int64.Type}})"
   ]
  },
  {
   "cell_type": "markdown",
   "metadata": {},
   "source": [
    ">ERRO: DataSource.Error: Não foi possivel localizar o arquivo\n",
    "\n",
    ". Erro acontece porque o arquivo de alguma planilha não foi encontrado\n",
    "\n",
    ". Ou porque o arquivo teve seu nome alterado.\n",
    "\n",
    ". Para concertar bastas ir nas etapas aplicadas 'fonte' e em seguida na linguagem 'M' e passar o novo endereço do arquivo\n",
    "\n",
    ". Ou apenas mudar seu nome no Diretorio apresentado na linguagem 'M'\n",
    "\n",
    ". Uma outra maneira de otimizar o Trabalho e criar um Parametro na ferramenta Gerenciar Parametros.\n",
    "\n",
    ".Defino o parametro sendo o novo caminho que vai ser aplicado a todos os arquivos ou seja o endereço da pasta que estão\n",
    "\n",
    ".Em seguida devo ir no Configurações da fonte de Dados e mudar os caminhos dos arquivos adicionando o parametro a todos\n",
    "\n",
    ".Lembrando que o parametro mostrado vai dizer ao Power BI que todos os arquivos estão na mesma pasta.\n",
    "\n",
    ". No Incio tera mais um trablaho mas no final caso no futuro alterem o diretorio das pasta bastara vc altera o parametro e o caminho será aplicado a todos os arquivos, assim poupando muito tempo."
   ]
  },
  {
   "cell_type": "markdown",
   "metadata": {},
   "source": [
    ">ERRO: 1 das consultas carregadas continha erros.\n",
    "\n",
    ". Uma das colunas teve algum erro ao ser carregada especificamnete nas linhas da mesma.\n",
    "\n",
    ". Clicando em exibir Error ele me mandara para o local que contenha o mesmo. \n",
    "\n",
    ". Nesse caso uma das linhas carregadas estava com problemas de integridade, num atributo que so deveria receber INT\n",
    "acabou recebendo um text, ou seja recebeu algumas letras num local que so deveria haver numeros.\n",
    "\n",
    ". O erro esta no tipo de atributo definido na coluna exemplo 'ABC', '123' ou seja Int64.Type ou 'type text'.\n",
    "\n",
    ". Para corrigir apenas troquei o tipo do coluna que deu erro na etapa aplicada que o erro aconteceu, para trocar fui na linguagem 'M' e troquei o tipo de atributo de 'Int64.Type' para 'type text'."
   ]
  }
 ],
 "metadata": {
  "language_info": {
   "name": "python"
  }
 },
 "nbformat": 4,
 "nbformat_minor": 2
}
