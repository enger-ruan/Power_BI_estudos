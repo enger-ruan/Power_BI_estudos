{
 "cells": [
  {
   "cell_type": "markdown",
   "metadata": {},
   "source": [
    "FORMULAS DAX"
   ]
  },
  {
   "cell_type": "markdown",
   "metadata": {},
   "source": [
    "COlUNAS CALCULADAS"
   ]
  },
  {
   "cell_type": "markdown",
   "metadata": {},
   "source": [
    "Formulas de Datas"
   ]
  },
  {
   "cell_type": "markdown",
   "metadata": {},
   "source": [
    "> Formulas de data ( YEAR )ANO:\n",
    "\n",
    "Formula para retirar o ano de uma coluna:"
   ]
  },
  {
   "cell_type": "code",
   "execution_count": null,
   "metadata": {
    "vscode": {
     "languageId": "plaintext"
    }
   },
   "outputs": [],
   "source": [
    "Ano = YEAR(Calendario[Data])"
   ]
  },
  {
   "cell_type": "markdown",
   "metadata": {},
   "source": [
    "- Etapas: clico em qualquer lugar da tabela e vou em adicionar coluna, apos isso troco o nome da coluna antes do '=' e defino como 'Ano', em seguida defino o formula 'YEAR' e passo a tabela (calendario)entre parenteses, e entre colchetes[Data] a coluna nas quais quero retitrar o valor de ano e criar a nova coluna.\n",
    "\n",
    "DICA: posso fazer apenas definindo o nome da coluna e depois passando a minha coluna Data e indicando qual valor quero tirar dela"
   ]
  },
  {
   "cell_type": "code",
   "execution_count": null,
   "metadata": {
    "vscode": {
     "languageId": "plaintext"
    }
   },
   "outputs": [],
   "source": [
    "Ano = Calendario[Data].[Ano]"
   ]
  },
  {
   "cell_type": "markdown",
   "metadata": {},
   "source": [
    "> Formula de Data ( WEEKDAY )Dia da semana\n",
    "\n",
    "- E Interessante pois consigo separar o dias da semana de cada data da minha coluna em outra coluna, e defino um numero para cada dia ex: Domingo Dia 1 Segunda dia 2 assim posso depois filtrar no relatorio por dia da semana ja que cada dia será filtrada por um numero que o representa, esses numeros so vão de 1 a 7 ja que so temos 7 dias na semana."
   ]
  },
  {
   "cell_type": "code",
   "execution_count": null,
   "metadata": {
    "vscode": {
     "languageId": "plaintext"
    }
   },
   "outputs": [],
   "source": [
    "Dia da Semana = WEEKDAY(Calendario[Data],1)"
   ]
  },
  {
   "cell_type": "markdown",
   "metadata": {},
   "source": [
    "> Formula de Data (DATEDIFF) e ( TODAY) calcular a diferença entre duas datas\n",
    "\n",
    ".Calcula a diferença entre 2 datas especificas e de quanto em quanto eu quero mostrar essa diferença exemplo de mes em mes ou de ano em ano.\n",
    "\n",
    ".No caso como queria saber a Idade do cliente passei a data de nascimento, usei a formula 'today' que passsa o dia atual, e no fim passei sero quero a diferença de dias mes ou ano."
   ]
  },
  {
   "cell_type": "code",
   "execution_count": null,
   "metadata": {
    "vscode": {
     "languageId": "plaintext"
    }
   },
   "outputs": [],
   "source": [
    "Idade do Cliente = DATEDIFF(CadastroClientes[Data de Nascimento],TODAY(),YEAR)"
   ]
  },
  {
   "cell_type": "markdown",
   "metadata": {},
   "source": [
    "Formulas de Logica\n"
   ]
  },
  {
   "cell_type": "markdown",
   "metadata": {},
   "source": [
    "> Formula IF\n",
    "\n",
    ". Ultilizada para aplicação de condições Se algo acontcer defino uma condição ou mais condições\n",
    "\n",
    ". Exemplo defino que se o cliente tiver mais de 40 ano deve retornar na coluna 'Categoria 1' se não 'categoria 2' ou seja True e False.\n",
    "\n",
    "Obervação: Devo criar em forma de coluna não de medida."
   ]
  },
  {
   "cell_type": "code",
   "execution_count": null,
   "metadata": {
    "vscode": {
     "languageId": "plaintext"
    }
   },
   "outputs": [],
   "source": [
    "Categoria de Cliente = IF(CadastroClientes[Idade do Cliente] > 40,\"Categoria 1\",\"Categoria 2\")"
   ]
  },
  {
   "cell_type": "markdown",
   "metadata": {},
   "source": [
    "> Formuça IF com varias condições\n",
    "\n",
    "- Divido meus clientes em 4 categorias baseados na sua idade, e crio uma nova coluna para que cada cliente possa receber esses valores.\n",
    "\n",
    "Observação: crio a coluna, seleciona a formula 'IF' e passo a coluna que tem a idade do cliente e a ultilizo para indicar a catoria ex: | IF(CadastroClientes[Idade do Cliente]>= 60, 'categoria 1 ' |defino uma categoria para todos que tiverem mais de 60 anos."
   ]
  },
  {
   "cell_type": "code",
   "execution_count": null,
   "metadata": {
    "vscode": {
     "languageId": "plaintext"
    }
   },
   "outputs": [],
   "source": [
    "Categoria de Cliente = IF(CadastroClientes[Idade do Cliente]>= 60,\"Categoria 1\", IF(CadastroClientes[Idade do Cliente]>= 45,\"Categoria 2\",IF(CadastroClientes[Idade do Cliente]>= 30,\"Categoria 3\", \"Categoria 4\")))"
   ]
  },
  {
   "cell_type": "markdown",
   "metadata": {},
   "source": [
    "> Formula IF Com Operador OR( || )\n",
    "\n",
    ". Posso Definir o operador OR no meu IF, assim Caso uma das 2 condições passadas aconteça ela retorna True se não False. ex: quero lapis Azul ou Branco, se ele atender uma dessas 2 condições True se não false, no estilo do Python ou SQL mas aqui OR e indicado no incio.\n",
    "\n",
    "Observação: Forma de coluna, no caso abaixo o 1 representava Domingo e o 7 sabado, ja fiz uma tabela que defini cada dia da semana e os separa de 1 a 7."
   ]
  },
  {
   "cell_type": "code",
   "execution_count": null,
   "metadata": {
    "vscode": {
     "languageId": "plaintext"
    }
   },
   "outputs": [],
   "source": [
    "Periodo da Semana = IF(OR(Calendario[Dia da Semana] =1,Calendario[Dia da Semana] =7),\"Fim de Semana\",\"Dia da Semana\")"
   ]
  },
  {
   "cell_type": "markdown",
   "metadata": {},
   "source": [
    "Fazendo dessa outra maneria fica parecido com o Python e mais facil de ler, ultlizo o || que e a mesma coisa do OR"
   ]
  },
  {
   "cell_type": "code",
   "execution_count": null,
   "metadata": {
    "vscode": {
     "languageId": "plaintext"
    }
   },
   "outputs": [],
   "source": [
    "Periodo da Semana = IF(Calendario[Dia da Semana] =1 || Calendario[Dia da Semana] = 7,\"Fim de Semana\", \"Dia Util\")"
   ]
  },
  {
   "cell_type": "markdown",
   "metadata": {},
   "source": [
    "Formula IF com o Operador AND( && )\n",
    "\n",
    ".Chamo a formula IF e uso o operador AND( && ) como maneira de dizer que para a logica ser verdadeiraas duas condições obrigatoriamente tem que acontecer.\n",
    "\n",
    "- exemplo: Vou aplicar um desconto somente para mães acima de 50 anos, então preciso dessas 2 informações a idade e o sexo.\n",
    "\n",
    "-Etapas: Ultilizo o 'IF' e Defino o AND( && ) entre as colunas para dizer que a logica nescessita das duas condições verdadeiras, e ultilizo alguns operadores matematicos apenas para Definir o Valor do Atributo que sera o usado, exemplo ([sexo] = \"Feminino\")."
   ]
  },
  {
   "cell_type": "code",
   "execution_count": null,
   "metadata": {
    "vscode": {
     "languageId": "plaintext"
    }
   },
   "outputs": [],
   "source": [
    "Dia das Maes = IF(CadastroClientes[Sexo] = \"Feminino\" && CadastroClientes[Idade do Cliente] >=50,\"Desconto Ativo\", \"Sem Desconto\")"
   ]
  },
  {
   "cell_type": "markdown",
   "metadata": {},
   "source": [
    "Formulas De Texto"
   ]
  },
  {
   "cell_type": "markdown",
   "metadata": {},
   "source": [
    "* LEN : Retorna o número de caracteres de um texto = LEN(texto) EX:LEN(\"Dede\") -> 4\n",
    "\n",
    "-\n",
    "\n",
    "\n",
    "* CONCATENATE ou & : Concatena vários textos em um só = Texto1 & Texto2 $ Texto 3 EX: \"Era\" \"Dos\" \"Imperios\" -> EraDosImperios\n",
    "\n",
    "-\n",
    "\n",
    "* LEFT/MID/RIGHT: Retorna caracteres da esquerda/meio/direita = LEFT(texto, Num_Caractres) | = MID(texto, Pos_inicial, Qtd_caracteres) \n",
    "\n",
    "-EX: LEFT(\"ABCDEFGH\", 4) -> \"ABCD\"\n",
    " \n",
    "-EX: MID(\"ABCDEFGHI\",3,4) -> \"DEFG\"\n",
    "\n",
    "-\n",
    "\n",
    "* UPPER/LOWER/PROPER: Converte o Texto em MAISCULO/minusculo/Nome Proprio \n",
    "\n",
    "-EX: UPPER(\"pequnas derrotas\") -> \"PEQUENAS DERROTAS\"\n",
    "\n",
    "-EX: LOWER(\"GRANDES DERROTAS\") -> \"grandes derrotas\"\n",
    "\n",
    "-EX: PROPER(\"rUAn PabLO ferNaNdES\") -> \"Ruan Pablo Fernandes\"\n",
    "\n",
    "-\n",
    "\n",
    "* SUBSTITUTE: Substitui um conjunto de cracteres por outro: SUBSTITUTE(texto, texto antigo, texto novo)\n",
    "\n",
    "-EX: SUBSTITUTE(\"João Paulo Martins\", \"Martins\", \"Lira\") -> João Paulo Lira\n",
    "\n",
    "-\n",
    "\n",
    "* SEARCH: Retorna a Posição de um caracter no texto = SEARCH(testo procurado, no texto)\n",
    "\n",
    "-EX: SEARCH(\"B\", \"João Batista\") -> 6"
   ]
  },
  {
   "cell_type": "markdown",
   "metadata": {},
   "source": [
    "> CONCATENATE\n",
    "\n",
    "CONCATENATE ou & : Concatena vários textos em um só = Texto1 & Texto2 $ Texto 3 EX: \"Era\" \"Dos\" \"Imperios\" -> EraDosImperios\n",
    "\n",
    "- Juntos 2 textos diferentes em um só, no caso abaixo juntei nome e sobrenome, e ultilizei aspas com um espçao dentro \"  \"  para representar o espaço entre os nomes."
   ]
  },
  {
   "cell_type": "code",
   "execution_count": null,
   "metadata": {
    "vscode": {
     "languageId": "plaintext"
    }
   },
   "outputs": [],
   "source": [
    "Nome completo = 'Cadastro Clientes'[Primeiro Nome] & \" \" & 'Cadastro Cliente'[Sobrenome]"
   ]
  },
  {
   "cell_type": "markdown",
   "metadata": {},
   "source": [
    "> LEFT/MID/RIGHT\n",
    "\n",
    "* LEFT/MID/RIGHT: Retorna caracteres da esquerda/meio/direita = LEFT(texto, Num_Caractres) | = MID(texto, Pos_inicial, Qtd_caracteres) \n",
    "\n",
    "-EX: LEFT(\"ABCDEFGH\", 4) -> \"ABCD\"\n",
    " \n",
    "-EX: MID(\"ABCDEFGHI\",4,5) -> \"DEFGH\""
   ]
  },
  {
   "cell_type": "markdown",
   "metadata": {},
   "source": [
    "LEFT\n",
    "\n",
    "Retiro apenas as 3 primeiras letras da minha coluna 'Nome do Mês', assim vou pegar o nome de cada mes abreviado.\n",
    "\n",
    "-Parametros: Local do texto, numero de caracteres da esuqerda para direita (LEFT) caso quisesse o contrario devo usar o (RIGHT) da direita pra esquerda."
   ]
  },
  {
   "cell_type": "code",
   "execution_count": null,
   "metadata": {
    "vscode": {
     "languageId": "plaintext"
    }
   },
   "outputs": [],
   "source": [
    "Sigla do mês = LEFT(Calendario[Nome do Mês],3)"
   ]
  },
  {
   "cell_type": "markdown",
   "metadata": {},
   "source": [
    "RIGHT\n",
    "\n",
    "Retiro os ultimos 4 caracteres da direita para esquerda."
   ]
  },
  {
   "cell_type": "code",
   "execution_count": null,
   "metadata": {
    "vscode": {
     "languageId": "plaintext"
    }
   },
   "outputs": [],
   "source": [
    "Numero Produto = RIGHT(CadastroProdutos[SKU], 4)"
   ]
  },
  {
   "cell_type": "markdown",
   "metadata": {},
   "source": [
    "> UPPER/LOWER/PROPER\n",
    "\n",
    "* UPPER/LOWER/PROPER: Converte o Texto em MAISCULO/minusculo/Nome Proprio \n",
    "\n",
    "-EX: UPPER(\"pequnas derrotas\") -> \"PEQUENAS DERROTAS\"\n",
    "\n",
    "-EX: LOWER(\"GRANDES DERROTAS\") -> \"grandes derrotas\"\n",
    "\n",
    "-EX: PROPER(\"rUAn PabLO ferNaNdES\") -> \"Ruan Pablo Fernandes\""
   ]
  },
  {
   "cell_type": "markdown",
   "metadata": {},
   "source": [
    "UPPER\n",
    "\n",
    "Além de retirar os 3 caracteres da esquerda dos valores passados, também defino que todos devem ser Maiuslos(UPPER), Caso quisesse minusculas era so usar o LOWER ou PROPER para Tornar a primeira letra de cada palavra maiuscula."
   ]
  },
  {
   "cell_type": "code",
   "execution_count": null,
   "metadata": {
    "vscode": {
     "languageId": "plaintext"
    }
   },
   "outputs": [],
   "source": [
    "Sigla do mês = UPPER(LEFT(Calendario[Nome do Mês],3))"
   ]
  },
  {
   "cell_type": "markdown",
   "metadata": {},
   "source": [
    "MID\n",
    "\n",
    "Dessa maneira posso retirar os caractres do meio de um texo ou qualuqer lugar, e mais vantago do que um RIGHT por exemplo  porque no RIGHT eu tenho que passar os numeros comçando do Final No MID posso começar pelo meio assim não ficar limitado a 4 carcteres como no acima, posso passar para pegar 10 caractres depois da posição inical mesmo que não tenha, mas se no futuro houver mais do que 4 caractres para o RIGHT ja não serveria porque não seriam todos limitados a um numero de caractres especifico.\n"
   ]
  },
  {
   "cell_type": "code",
   "execution_count": null,
   "metadata": {
    "vscode": {
     "languageId": "plaintext"
    }
   },
   "outputs": [],
   "source": [
    "Numero Produto = MID(CadastroProdutos[SKU],3, 10)"
   ]
  },
  {
   "cell_type": "markdown",
   "metadata": {},
   "source": [
    "> Formula RELATED\n",
    "\n",
    ". Posso pegar as informações de uma tabela e colocar em outra mas as tabelas precisam estar ligado nos modelos relacionais\n",
    "\n",
    ". Peguei o 'Preço unitario' da minha tabela 'Cadastro Produto' e adcionei como coluna na tabela 'BaseVendas'"
   ]
  },
  {
   "cell_type": "code",
   "execution_count": null,
   "metadata": {
    "vscode": {
     "languageId": "plaintext"
    }
   },
   "outputs": [],
   "source": [
    "Preço do Produto = RELATED(CadastroProdutos[Preco Unitario])"
   ]
  },
  {
   "cell_type": "markdown",
   "metadata": {},
   "source": [
    ". Pego a informação de cada Gerente ne tabela 'CadastroLojas' e paço para a minha nova coluna na Tabela 'BaseDevoluções', assim posso saber Qual gerente recebeu a Devolução de cada pedido."
   ]
  },
  {
   "cell_type": "code",
   "execution_count": null,
   "metadata": {
    "vscode": {
     "languageId": "plaintext"
    }
   },
   "outputs": [],
   "source": [
    "Gerente da Loja = RELATED(CadastroLojas[Gerente])"
   ]
  },
  {
   "cell_type": "markdown",
   "metadata": {},
   "source": [
    ">FORMULAS DAX"
   ]
  },
  {
   "cell_type": "markdown",
   "metadata": {},
   "source": [
    ">MEDIDAS"
   ]
  },
  {
   "cell_type": "markdown",
   "metadata": {},
   "source": [
    "* SUM: Soma os valores de uma coluna = SUM([Tamnho Pedido]) -> Vai fazer a soma de todos os pedidos.\n",
    "\n",
    "-\n",
    "\n",
    "* AVARAGE: Retorna a média(aritimética) dos valores de uma coluna = AVARAGE([Faturamento]) -> Me retorna a media do 'Faturamento'\n",
    "\n",
    "-\n",
    "\n",
    "* MAX: Retorna o maior valor de uma coluna = MAX(Quantidade Devolvida) ->\n",
    "\n",
    "-\n",
    "\n",
    "*MIN: Retorna o menor valor de uma coluna = MIN([Preço do Produto]) -> me retorna o produto de menor preço?\n",
    "\n",
    "-\n",
    "\n",
    "*DIVIDE: Faz uma divisão entre dois valores = DIVIDE(Numerador, Denominador, Resultado Alternativo)"
   ]
  },
  {
   "cell_type": "markdown",
   "metadata": {},
   "source": [
    "> Função SUM\n",
    "\n",
    "* SUM: Soma os valores de uma coluna = SUM([Tamnho Pedido]) -> Vai fazer a soma de todos os pedidos.\n",
    "\n",
    "\n",
    ". Faço a soma do preço de todos os produtos vendidos:"
   ]
  },
  {
   "cell_type": "code",
   "execution_count": null,
   "metadata": {
    "vscode": {
     "languageId": "plaintext"
    }
   },
   "outputs": [],
   "source": [
    "Faturamento Total = SUM('BaseVendas 2016 - 2018'[Faturamento na Venda])"
   ]
  },
  {
   "cell_type": "markdown",
   "metadata": {},
   "source": [
    ". Faço a soma da quantidade total de devoluções:"
   ]
  },
  {
   "cell_type": "code",
   "execution_count": null,
   "metadata": {
    "vscode": {
     "languageId": "plaintext"
    }
   },
   "outputs": [],
   "source": [
    "Total de Devoluções = SUM('Base Devoluções'[Quantidade Devolvida])"
   ]
  },
  {
   "cell_type": "markdown",
   "metadata": {},
   "source": [
    "> . Calculo a porcentagem de devoluções\n",
    "\n",
    ". Divido a quantidade de produtos devolvidas pela quantidade de vendas, vai me retornar um decimal, depois e so ir em modelagem e trocar de decimal para porcentagem."
   ]
  },
  {
   "cell_type": "code",
   "execution_count": null,
   "metadata": {
    "vscode": {
     "languageId": "plaintext"
    }
   },
   "outputs": [],
   "source": [
    "Percentual de Devoluções = SUM('Base Devoluções'[Quantidade Devolvida])/SUM('BaseVendas 2016 - 2018'[Tamanho Pedido])"
   ]
  },
  {
   "cell_type": "markdown",
   "metadata": {},
   "source": [
    ". Se eu ja tiver as medidas das somas calculas posso apenas usar as medidas para fazer a conta."
   ]
  },
  {
   "cell_type": "code",
   "execution_count": null,
   "metadata": {
    "vscode": {
     "languageId": "plaintext"
    }
   },
   "outputs": [],
   "source": [
    "Percentual de Devoluções = [Total de Devoluções]/[Total Pedidos]"
   ]
  },
  {
   "cell_type": "markdown",
   "metadata": {},
   "source": [
    "> Função AVAREGE  Calcula a Media dos Valores\n",
    "\n",
    "Ex: Calculo a Media total do Faturamento Ultilizando a Coluna Faturamento na Venda"
   ]
  },
  {
   "cell_type": "code",
   "execution_count": null,
   "metadata": {
    "vscode": {
     "languageId": "plaintext"
    }
   },
   "outputs": [],
   "source": [
    "Media Faturamento = AVERAGE('BaseVendas 2016 - 2018'[Faturamento na Venda])"
   ]
  },
  {
   "cell_type": "markdown",
   "metadata": {},
   "source": [
    "> Função MAX \n",
    "\n",
    ". Me retorna o valor maximo de algo, exemplo o valor maximod e uma coluna de um produto\n",
    "\n",
    "Ex: No caso abaixo me retorno o Valor maximo exstente na tabela vendas assim sei qual o maior valor ja consegui em uma venda."
   ]
  },
  {
   "cell_type": "code",
   "execution_count": null,
   "metadata": {
    "vscode": {
     "languageId": "plaintext"
    }
   },
   "outputs": [],
   "source": [
    "Maximo Faturado = MAX('BaseVendas 2016 - 2018'[Faturamento na Venda])"
   ]
  },
  {
   "cell_type": "markdown",
   "metadata": {},
   "source": [
    "> Função Min\n",
    "\n",
    ". Me retorna o Valor minimo de Uma coluna\n",
    "\n",
    "Ex: Valor minimo da minha coluna Faturamento Venda, assim posso ver quais pedidos tem o menor faturamento."
   ]
  },
  {
   "cell_type": "code",
   "execution_count": null,
   "metadata": {
    "vscode": {
     "languageId": "plaintext"
    }
   },
   "outputs": [],
   "source": [
    "Minimo Faturado = MIN('BaseVendas 2016 - 2018'[Faturamento na Venda])"
   ]
  },
  {
   "cell_type": "markdown",
   "metadata": {},
   "source": [
    "> Formulas de contagem\n",
    "\n",
    "* COUNT: Conta a quantidade de células em uma coluna que contém números = COUNT(nome_da_coluna) EX: COUNT(Tamanho Pedido)\n",
    "\n",
    "-\n",
    "\n",
    "* COUNTA: Conta a quantidade de células preenchidas em uma coluna (sendo numero ou não) EX: COUNTA(['Nome do Cliente'])\n",
    "\n",
    "-\n",
    "\n",
    "* DISTINCTCOUNT: Conta a quantidade de valores únicos em uma coluna(sem as duplicatas) EX:([SKU]) obs: Ignora valroes repetidos faz a contagem de elementos uma unica vez sem repetição.\n",
    "\n",
    "-\n",
    "\n",
    "* COUNTROWS: COnta a quantidade de linhas em uma tabela EX: COUNTROWS(\"Cadastro Produtos\")"
   ]
  },
  {
   "cell_type": "markdown",
   "metadata": {},
   "source": [
    "> Formula COUNT\n",
    "\n",
    "* COUNT: Conta a quantidade de células em uma coluna que contém números = COUNT(nome_da_coluna) EX: COUNT(Tamanho Pedido)\n",
    "\n",
    "Obs: E como se contasse cada linha da coluna, mas nesse caso so as que tem numeros, ex: contei o total de vendas que ja fiz."
   ]
  },
  {
   "cell_type": "code",
   "execution_count": null,
   "metadata": {
    "vscode": {
     "languageId": "plaintext"
    }
   },
   "outputs": [],
   "source": [
    "Total De Vendas = COUNT('BaseVendas 2016 - 2018'[Tamanho Pedido])"
   ]
  },
  {
   "cell_type": "markdown",
   "metadata": {},
   "source": [
    "> Formula COUNTA\n",
    "\n",
    "* COUNTA: Conta a quantidade de células preenchidas em uma coluna (sendo numero ou não) EX: COUNTA(['Nome do Cliente'])\n",
    "\n",
    "OBS: como se contasse todas as linhas da minha coluna mesmo que ela contenha numero ou não"
   ]
  },
  {
   "cell_type": "code",
   "execution_count": null,
   "metadata": {
    "vscode": {
     "languageId": "plaintext"
    }
   },
   "outputs": [],
   "source": [
    "Numero de Clientes = COUNTA(CadastroClientes[E-mail])"
   ]
  },
  {
   "cell_type": "markdown",
   "metadata": {},
   "source": [
    "> Formula DISTINCTCOUNT\n",
    "\n",
    "* DISTINCTCOUNT: Conta a quantidade de valores únicos em uma coluna(sem as duplicatas) EX:([SKU]) obs: Ignora valroes repetidos faz a contagem de elementos uma unica vez sem repetição.\n",
    "\n",
    "- E Interesante para contar quantos valores unicos existem na minha coluna, ja que ele não conta valores repetidos"
   ]
  },
  {
   "cell_type": "code",
   "execution_count": null,
   "metadata": {
    "vscode": {
     "languageId": "plaintext"
    }
   },
   "outputs": [],
   "source": [
    "Qtd Produtos Unicos = DISTINCTCOUNT('Base Devoluções'[SKU])"
   ]
  },
  {
   "cell_type": "markdown",
   "metadata": {},
   "source": [
    "> Formula COUNTROWS\n",
    "\n",
    "* COUNTROWS: Conta a quantidade de linhas em uma tabela EX: COUNTROWS(\"Cadastro Produtos\")"
   ]
  },
  {
   "cell_type": "code",
   "execution_count": null,
   "metadata": {
    "vscode": {
     "languageId": "plaintext"
    }
   },
   "outputs": [],
   "source": [
    "Numero de Devoluções= COUNTROWS(Base Devoluções')"
   ]
  },
  {
   "cell_type": "markdown",
   "metadata": {},
   "source": [
    "...Ff"
   ]
  }
 ],
 "metadata": {
  "language_info": {
   "name": "python"
  }
 },
 "nbformat": 4,
 "nbformat_minor": 2
}
