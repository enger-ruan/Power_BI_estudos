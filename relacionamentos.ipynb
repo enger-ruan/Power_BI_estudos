{
 "cells": [
  {
   "cell_type": "markdown",
   "metadata": {},
   "source": [
    "> Tabelas\n",
    "\n",
    "* Tabela Fato \n",
    "    - Tabela que representa informações sobre fatos que aconteceram(venda, produção, transporte, etc.)\n",
    "    - Cada linha representa as informações sobre um fato(uma venda,etc)\n",
    "    geralmente são tabelas gigantes com varias informações tipo 'Vendas'\n",
    "\n",
    "* Tabela Características\n",
    "    - Tabelas que representam caracteristicas ou atributos sobre uma informação contida na Tabela fato(ex: Nome dos Clientes, Nome do Produto etc)\n",
    "    \n",
    "    -Possuem PK  para que as caracteristicas de tabelas fato sejam consultadas\n",
    "\n",
    "    geralmente são tabelas menores com informções de produtos por exemplo\n",
    "\n",
    "\n",
    "    Ou seja na Tabelas fatos existem existem varias atributos que aconteceram tipo 'Venda', 'CodigoDoProduto' ja nas tabelas caracteristicas eu posso consultar a qual CodigoDoProduto a minha tabela 'Fato' está se referindo ou seja por isso e uma Tabela Caracteristicas porque ela contém as caracteristicas das Tabelas Fatos.\n",
    "\n",
    "> PK e FK\n",
    "\n",
    "PK Chave Primaria:\n",
    "    \n",
    "- Coluna com valores que não se repetem\n",
    "    \n",
    "- Cada valor representa uma unica linha da tabela\n",
    "    \n",
    "- Serve como refêrencia para dar informações \n",
    "complementares  usando a FK de outras tabela\n",
    "\n",
    "FK Chave Estrangeira:\n",
    "- Coluna com valores que podem se repetir.\n",
    "-É usada para relacionar com Chaves Primarias nas Tabalas Caracteristicas\n"
   ]
  },
  {
   "cell_type": "markdown",
   "metadata": {},
   "source": [
    "> Cardinalidade\n",
    "\n",
    "* Um para muitos(1 -> *) - O padrão\n",
    "\n",
    "    \n",
    "    - 1 na tabela caracteristica.\n",
    "    \n",
    "    - muitos na tabela fato.\n",
    "\n",
    "\n",
    "* Muitos para Muitos (* -> *)\n",
    "    \n",
    "    - Muitos em uma tabela Fato.\n",
    "    \n",
    "    - Muitos em outra tabela Fato.\n",
    "\n",
    "\n",
    "* Um para Um (1 -> 1)\n",
    "    \n",
    "    - Um em uma tabela caracteristicas.\n",
    "    \n",
    "    - Um em outra tabela caracteristicas.\n"
   ]
  },
  {
   "cell_type": "markdown",
   "metadata": {},
   "source": [
    "> Setas num relacionamento\n",
    "\n",
    "- A uma importancia em relação as setas que são apresentadas nos relacionametos.\n",
    "\n",
    ". Devo Trabalhar com as tabelas principais para fazer com outras, simplificando eu tenho o mesmo atributo em diferentes tabelas 'SKU', tabela 'Produtos', 'Devoluções', 'BaseVendas'\n",
    "\n",
    ". Porém somente a tabela produto tem ligação com todas as tabelas, ou seja ultilizando o SKU da tabela produtos eu consigo fazer a ligação entre todas as outras, pq ela esta relacionada com todas.\n",
    "\n",
    ". Se ultilizar o SKU da tabela Devolução por exemplo, eu não teria como ultilizar esse mesmo SKU pra filtar alguma informção da tabela Base Vendas porque elas não tem um relacionamento entre si.\n",
    "\n",
    ". Ou seja devo ficar sempre a tento a qual parametro vou passar , e analizar se essa paremetro me permite trabalhar com todas as tabelas, segundo meus instintos Devo tentar passar mais parametros de tabelas caracteristicas pois elas geralmente vão ter ligação com as tabelas Fatos.\n",
    "\n",
    "DICA: Para não haver uma confusão de colunas que são repetidas em tabelas posso ocultar alguns dos atrbutos que s=ja estão disponiveis nas minhas tabelas caracteristicas, exemplo ocultar o SKU das tabelas vendas e devoluções e interessante porque, assim quando eu for filtrar informações ou passar parametros não vou correr o risco de pegar um SKU que não se relaciona com outras tabelas, fora que facilita visualização nos campos de Dados, ocultar tabelas que não seram usadas naquele momento tbm e uma pratica viavel."
   ]
  },
  {
   "cell_type": "markdown",
   "metadata": {},
   "source": [
    "> Boas Praticas Relacionamentos:\n",
    "\n",
    "- Crie um modelo de dados organizado e normalizado\n",
    "    \n",
    "    * Cada tabela deve servir para um proposito,ex: uma tabela com dados do cliente e outra com dados de vendas, não tudo junto e misturado.\n",
    "    \n",
    "    * Use relacionamentos no lugar de colunas mescladas. As tabelas ficam mais leves.\n",
    "\n",
    "- Organize tabelas caracteristicas acima das tabelas fatos no Power BI\n",
    "\n",
    "    * isso deixa mais visual e intuitivo criar o relacuinamento entre chaves primarias.\n",
    "    * Ajuda a lembrar que o filtro só desce de tabelas caracteristicas para tabelas fatos.\n",
    "\n",
    "- Evite usar filtro bidirecional a não ser que seja nescessario,\n",
    "    * Isso pode causar erros no seu relatorio.\n",
    "\n",
    "- Oculte no relatorio campos que não precisam ser usados\n",
    "    * Isso ajuda a evitar erros de filtro no realatorio.\n",
    "    * Deixa o relatorio muito mais organizado."
   ]
  }
 ],
 "metadata": {
  "language_info": {
   "name": "python"
  }
 },
 "nbformat": 4,
 "nbformat_minor": 2
}
